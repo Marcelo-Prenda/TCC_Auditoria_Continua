{
 "cells": [
  {
   "cell_type": "code",
   "execution_count": 1,
   "metadata": {},
   "outputs": [],
   "source": [
    "import pandas as pd\n",
    "import random\n",
    "from datetime import datetime, timedelta\n",
    "import numpy as np"
   ]
  },
  {
   "cell_type": "markdown",
   "metadata": {},
   "source": [
    "## INTRODUÇÃO DA BASE DE DADOS NO CÓDIGO"
   ]
  },
  {
   "cell_type": "code",
   "execution_count": 2,
   "metadata": {},
   "outputs": [
    {
     "data": {
      "text/plain": [
       "199668"
      ]
     },
     "execution_count": 2,
     "metadata": {},
     "output_type": "execute_result"
    }
   ],
   "source": [
    "df1 = pd.read_csv('base_dados.csv')\n",
    "df1.shape[0]"
   ]
  },
  {
   "cell_type": "markdown",
   "metadata": {},
   "source": [
    "## INICIO DOS TESTES"
   ]
  },
  {
   "cell_type": "code",
   "execution_count": 3,
   "metadata": {},
   "outputs": [],
   "source": [
    "primeira_parcela = []\n",
    "for index, row in df1.iterrows():\n",
    "    valor_emprestimo = row['VALOR_EMPRESTIMO']\n",
    "    taxa_mensal_cdi = row['TAXA_MENSAL_CDI']\n",
    "    taxas_idade = row['TAXAS_IDADE']\n",
    "    prazo_meses = row['PRAZO_MESES']\n",
    "    \n",
    "    # Calcular a primeira parcela usando a fórmula da prestação uniforme (Tabela Price)\n",
    "    primeira_parcela_calculada = round((valor_emprestimo * (1 + (taxa_mensal_cdi + taxas_idade)/100) ** prazo_meses * ((taxa_mensal_cdi + taxas_idade)/100)) / ((1 + ((taxa_mensal_cdi + taxas_idade)/100)) ** prazo_meses - 1),2)\n",
    "    \n",
    "    primeira_parcela.append(primeira_parcela_calculada)\n",
    "\n",
    "# Adicionar o valor da primeira parcela como uma nova coluna no DataFrame\n",
    "df1['PRIMEIRA_PARCELA_EMPRESTIMO_AUD_CONT'] = primeira_parcela"
   ]
  },
  {
   "cell_type": "code",
   "execution_count": 4,
   "metadata": {},
   "outputs": [],
   "source": [
    "df1['DIFERENÇA_PRIM_PARC'] = df1['PRIMEIRA_PARCELA_EMPRESTIMO'] - df1['PRIMEIRA_PARCELA_EMPRESTIMO_AUD_CONT']"
   ]
  },
  {
   "cell_type": "code",
   "execution_count": 5,
   "metadata": {},
   "outputs": [
    {
     "data": {
      "text/plain": [
       "1000"
      ]
     },
     "execution_count": 5,
     "metadata": {},
     "output_type": "execute_result"
    }
   ],
   "source": [
    "df_resultado = df1[(df1['DIFERENÇA_PRIM_PARC'] > 0.0) | (df1['DIFERENÇA_PRIM_PARC'] < 0.0)]\n",
    "df_resultado.shape[0]"
   ]
  },
  {
   "cell_type": "markdown",
   "metadata": {},
   "source": [
    "## RESULTADO"
   ]
  },
  {
   "cell_type": "code",
   "execution_count": 6,
   "metadata": {},
   "outputs": [
    {
     "data": {
      "text/plain": [
       "1000"
      ]
     },
     "execution_count": 6,
     "metadata": {},
     "output_type": "execute_result"
    }
   ],
   "source": [
    "df_resultado.to_csv('resultado_teste.csv', index=False)\n",
    "df_resultado.shape[0]"
   ]
  }
 ],
 "metadata": {
  "kernelspec": {
   "display_name": "Python 3",
   "language": "python",
   "name": "python3"
  },
  "language_info": {
   "codemirror_mode": {
    "name": "ipython",
    "version": 3
   },
   "file_extension": ".py",
   "mimetype": "text/x-python",
   "name": "python",
   "nbconvert_exporter": "python",
   "pygments_lexer": "ipython3",
   "version": "3.12.0"
  }
 },
 "nbformat": 4,
 "nbformat_minor": 2
}
